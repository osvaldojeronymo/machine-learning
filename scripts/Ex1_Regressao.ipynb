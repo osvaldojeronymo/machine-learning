{
  "nbformat": 4,
  "nbformat_minor": 0,
  "metadata": {
    "colab": {
      "provenance": []
    },
    "kernelspec": {
      "name": "python3",
      "display_name": "Python 3"
    }
  },
  "cells": [
    {
      "cell_type": "markdown",
      "metadata": {
        "id": "aNSNSisPAaeV"
      },
      "source": [
        "## **SCC5871/MAI5025 - INTRODUÇÃO A APRENDIZADO DE MÁQUINA**\n",
        "## PROFA. ROSELI AP. FRANCELIN ROMERO\n",
        "# 1O. SEMESTRE DE 2023\n",
        "##\n"
      ]
    },
    {
      "cell_type": "markdown",
      "metadata": {
        "id": "zGmjqcXXcSKN"
      },
      "source": [
        "\n",
        "\n",
        "---\n",
        "### Questão 01.\n",
        "\n",
        "Para esse exercício, carregue a base de dados `dados.txt`. Esta base possui 14 variáveis independentes, organizados em 14 colunas. A 15ª coluna representa a variável dependente (o valor da função). Carregue os dados em uma estrutura Pandas DataFrame. Utilize um regressor linear nesse conjunto de dados e calcule seu erro quadrático médio (mean squared error - MSE)\n",
        "\n",
        "- Avalie o MSE considerando o conjunto de dados **inteiro** para avaliação."
      ]
    },
    {
      "cell_type": "code",
      "metadata": {
        "id": "3McwYYVBUade"
      },
      "source": [
        "import pandas as pd\n",
        "from sklearn.linear_model import LinearRegression\n",
        "from sklearn.metrics import mean_squared_error\n",
        "\n",
        "data = pd.read_csv(\"dados.txt\")"
      ],
      "execution_count": null,
      "outputs": []
    },
    {
      "cell_type": "code",
      "source": [
        "# código de solução"
      ],
      "metadata": {
        "id": "_iI-YWg40qKY"
      },
      "execution_count": null,
      "outputs": []
    },
    {
      "cell_type": "markdown",
      "metadata": {
        "id": "4ZcRV4NXEGVk"
      },
      "source": [
        "---\n",
        "### Questão 02.\n",
        "\n",
        "Agora faça regressão polinomial nos dados, utilizando um polinômio de grau 2. Calcule seu MSE.\n",
        "\n",
        "* Dica: Utilize a classe importada para *transformar* os dados para uma regressão polinomial de grau 2. Mais informações sobre como o processo podem ser encontradas dentro da pasta do projeto.\n"
      ]
    },
    {
      "cell_type": "code",
      "metadata": {
        "id": "1WiLvzBJEX9w"
      },
      "source": [
        "from sklearn.preprocessing import PolynomialFeatures"
      ],
      "execution_count": null,
      "outputs": []
    },
    {
      "cell_type": "code",
      "source": [
        "# código de solução"
      ],
      "metadata": {
        "id": "6Dd0ojbz0oqx"
      },
      "execution_count": null,
      "outputs": []
    },
    {
      "cell_type": "markdown",
      "metadata": {
        "id": "PVC-mufXQy14"
      },
      "source": [
        "---\n",
        "\n",
        "### Questão 03.\n",
        "\n",
        "Por fim, faça regressão polinomial utilizando um polinômio de grau 3. Verifique qual das 3 abordagens adotada produz o menor erro quadrático médio (MSE).\n",
        "- Avalie o MSE considerando o conjunto de dados **inteiro**  para avaliação.\n"
      ]
    },
    {
      "cell_type": "code",
      "metadata": {
        "id": "g9n1xbcXQ6XF"
      },
      "source": [
        "from sklearn.preprocessing import PolynomialFeatures"
      ],
      "execution_count": null,
      "outputs": []
    },
    {
      "cell_type": "code",
      "source": [
        "from sklearn.metrics import mean_squared_error"
      ],
      "metadata": {
        "id": "VrUPew53qSwm"
      },
      "execution_count": null,
      "outputs": []
    },
    {
      "cell_type": "code",
      "source": [
        "# código de solução"
      ],
      "metadata": {
        "id": "qX_b0d1Y0ufo"
      },
      "execution_count": null,
      "outputs": []
    },
    {
      "cell_type": "markdown",
      "source": [
        "# Conjunto de dados de transações bancárias\n",
        "\n",
        "No dataset que será utilizado para as próximas questões, cada elemento representa uma transação com cartões de crédito. \n",
        "\n",
        "A base possui 30 atributos. `Time` representa o tempo em segundos desde a primeira transação da base. `Amount` corresponde ao valor da transação.\n",
        "\n",
        "Outros 28 atributos numéricos anonimizados também são fornecidos, com 1 variável (`Class`) de saída onde 1 significa fraude e 0 transação normal."
      ],
      "metadata": {
        "id": "pUZ26yhXuRpt"
      }
    },
    {
      "cell_type": "code",
      "source": [
        "data_df = pd.read_csv(\"creditcard_sampled.csv\", index_col=0)"
      ],
      "metadata": {
        "id": "hP26bTr5uQfi"
      },
      "execution_count": null,
      "outputs": []
    },
    {
      "cell_type": "code",
      "source": [
        "data_df"
      ],
      "metadata": {
        "id": "CXylk58XvWNF"
      },
      "execution_count": null,
      "outputs": []
    },
    {
      "cell_type": "code",
      "source": [
        "# Removendo coluna com timestamps\n",
        "data_df = data_df.drop(columns=[\"Time\"])"
      ],
      "metadata": {
        "id": "-F5oqZw6w6u0"
      },
      "execution_count": null,
      "outputs": []
    },
    {
      "cell_type": "code",
      "source": [
        "data_df.columns"
      ],
      "metadata": {
        "id": "rO1uD9qIxcGc"
      },
      "execution_count": null,
      "outputs": []
    },
    {
      "cell_type": "markdown",
      "source": [
        "### Questão 4\n",
        "\n",
        "Divida o conjunto de dados em treino e teste seguindo as seguintes orientações:\n",
        "\n",
        "- utilize a função [train_test_split](https://scikit-learn.org/stable/modules/generated/sklearn.model_selection.train_test_split.html) do sklearn\n",
        "- utilize as seguintes proporções: 80% para treino e 20% para teste\n",
        "- faça a divisão dos dados respeitando as proporções das classes (utilize o parâmetro *stratify*)"
      ],
      "metadata": {
        "id": "EEQESL7Jv3it"
      }
    },
    {
      "cell_type": "markdown",
      "source": [
        "### Questão 5\n",
        "\n",
        "Sabendo que estamos interessados em identificar fraudes e transações normais, responda:\n",
        "\n",
        "- a) Identificação de fraudes é o problema de classificação ou regressão? Justifique sua resposta.\n",
        "- b) Analise as [métricas do sklearn](https://scikit-learn.org/stable/modules/classes.html#module-sklearn.metrics), e escolha uma adequada para avaliar o problema de interesse. Justifique sua escolha."
      ],
      "metadata": {
        "id": "ZbiH0DB5xuXo"
      }
    },
    {
      "cell_type": "markdown",
      "source": [
        "### Questão 6\n",
        "\n",
        "Considerando os conjuntos de dados dividos na Questão 4:\n",
        "\n",
        "- Sabendo que os dados analisados correspondem a valores numéricos, aplique um procedimento adequado para pré-processamento dos mesmos (ex: normalização ou padronização) para os dados de treino e teste.\n",
        "- Treine um [Regressor Logístico](https://scikit-learn.org/stable/modules/generated/sklearn.linear_model.LogisticRegression.html) nos dados de treino e avalie seu modelo no conjunto de teste **utilizando a métrica escolhida na Questão 5**."
      ],
      "metadata": {
        "id": "qE44sNGg0i9q"
      }
    },
    {
      "cell_type": "code",
      "source": [
        "from sklearn.linear_model import LogisticRegression"
      ],
      "metadata": {
        "id": "Nlsq1eog1_L-"
      },
      "execution_count": null,
      "outputs": []
    },
    {
      "cell_type": "code",
      "source": [
        "# código de solução"
      ],
      "metadata": {
        "id": "An3ujHN72W0-"
      },
      "execution_count": null,
      "outputs": []
    }
  ]
}