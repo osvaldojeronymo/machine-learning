{
 "cells": [
  {
   "cell_type": "markdown",
   "id": "623bd2bb",
   "metadata": {},
   "source": [
    "# Projeto Real: Regressão Linear Simples\n",
    "\n",
    "Este notebook aplica regressão linear simples em um dataset aberto (exemplo: altura vs. peso) e explica cada etapa para leigos e técnicos."
   ]
  },
  {
   "cell_type": "code",
   "execution_count": null,
   "id": "99bcab9a",
   "metadata": {},
   "outputs": [],
   "source": [
    "# Importar bibliotecas\n",
    "import pandas as pd\n",
    "import numpy as np\n",
    "import matplotlib.pyplot as plt\n",
    "import seaborn as sns\n",
    "from sklearn.linear_model import LinearRegression\n",
    "from sklearn.metrics import mean_squared_error, r2_score"
   ]
  },
  {
   "cell_type": "code",
   "execution_count": null,
   "id": "c9c1b200",
   "metadata": {},
   "outputs": [],
   "source": [
    "# Carregar e explorar o dataset\n",
    "# Exemplo fictício: substitua pelo caminho do seu dataset real\n",
    "# df = pd.read_csv('datasets/altura_peso.csv')\n",
    "df = pd.DataFrame({\n",
    "    'altura': [160, 165, 170, 175, 180, 185, 190, 195, 200],\n",
    "    'peso':   [60, 65, 70, 75, 80, 85, 90, 95, 100]\n",
    "})\n",
    "print('Primeiras linhas do dataset:')\n",
    "print(df.head())\n",
    "print('\\nResumo estatístico:')\n",
    "print(df.describe())"
   ]
  },
  {
   "cell_type": "code",
   "execution_count": null,
   "id": "a9344ee3",
   "metadata": {},
   "outputs": [],
   "source": [
    "# Pré-processamento dos dados\n",
    "print('Valores ausentes por coluna:')\n",
    "print(df.isnull().sum())\n",
    "# Selecionar apenas as colunas relevantes\n",
    "X = df[['altura']].values\n",
    "y = df['peso'].values"
   ]
  },
  {
   "cell_type": "code",
   "execution_count": null,
   "id": "bef9400d",
   "metadata": {},
   "outputs": [],
   "source": [
    "# Visualização dos dados\n",
    "plt.figure(figsize=(8,5))\n",
    "sns.scatterplot(x=df['altura'], y=df['peso'])\n",
    "plt.title('Relação entre Altura e Peso')\n",
    "plt.xlabel('Altura (cm)')\n",
    "plt.ylabel('Peso (kg)')\n",
    "plt.show()"
   ]
  },
  {
   "cell_type": "code",
   "execution_count": null,
   "id": "0e632619",
   "metadata": {},
   "outputs": [],
   "source": [
    "# Treinar modelo de regressão linear\n",
    "modelo = LinearRegression()\n",
    "modelo.fit(X, y)\n",
    "y_pred = modelo.predict(X)\n",
    "print(f\"Coeficiente angular (a): {modelo.coef_[0]:.2f}\")\n",
    "print(f\"Coeficiente linear (b): {modelo.intercept_:.2f}\")"
   ]
  },
  {
   "cell_type": "code",
   "execution_count": null,
   "id": "10fac764",
   "metadata": {},
   "outputs": [],
   "source": [
    "# Avaliar o modelo\n",
    "mse = mean_squared_error(y, y_pred)\n",
    "r2 = r2_score(y, y_pred)\n",
    "print(f\"Erro quadrático médio (MSE): {mse:.2f}\")\n",
    "print(f\"Coeficiente de determinação (R²): {r2:.2f}\")\n",
    "\n",
    "# Gráfico de resíduos\n",
    "residuos = y - y_pred\n",
    "plt.figure(figsize=(8,5))\n",
    "plt.scatter(df['altura'], residuos)\n",
    "plt.axhline(0, color='red', linestyle='--')\n",
    "plt.xlabel('Altura (cm)')\n",
    "plt.ylabel('Resíduo (Peso real - Peso previsto)')\n",
    "plt.title('Gráfico de Resíduos')\n",
    "plt.show()"
   ]
  },
  {
   "cell_type": "markdown",
   "id": "64e208f6",
   "metadata": {},
   "source": [
    "## Interpretação dos Resultados\n",
    "\n",
    "- O coeficiente angular indica o quanto o peso aumenta para cada centímetro de altura.\n",
    "- O coeficiente linear representa o peso estimado para altura zero (não faz sentido físico, mas é útil para o modelo).\n",
    "- O MSE mostra o erro médio das previsões; quanto menor, melhor.\n",
    "- O R² indica o quanto o modelo explica a variação dos dados (próximo de 1 é ótimo).\n",
    "- O gráfico de resíduos deve mostrar dispersão aleatória em torno de zero.\n",
    "\n",
    "### Limitações\n",
    "- Relações não lineares exigem outros modelos (polinomial, logarítmico, etc).\n",
    "- Outliers podem distorcer o ajuste.\n",
    "- Dataset pequeno pode limitar a generalização.\n",
    "\n",
    "### Possíveis Melhorias\n",
    "- Testar outros tipos de regressão.\n",
    "- Usar mais dados reais.\n",
    "- Realizar validação cruzada.\n",
    "\n",
    "---\n",
    "\n",
    "Este notebook pode ser adaptado para outros datasets e modelos conforme necessidade."
   ]
  }
 ],
 "metadata": {
  "language_info": {
   "name": "python"
  }
 },
 "nbformat": 4,
 "nbformat_minor": 5
}
