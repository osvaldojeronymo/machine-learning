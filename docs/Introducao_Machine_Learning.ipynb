{
 "cells": [
  {
   "cell_type": "markdown",
   "id": "1967a1ac",
   "metadata": {},
   "source": [
    "# Introdução à Machine Learning\n",
    "\n",
    "Esta aula apresenta os fundamentos da Inteligência Artificial (IA) e do Aprendizado de Máquina (Machine Learning), abordando definições, contextos históricos, paradigmas, classificações e aplicações."
   ]
  },
  {
   "cell_type": "markdown",
   "id": "4f54950f",
   "metadata": {},
   "source": [
    "## 1. Inteligência Artificial: Definição e Contexto Histórico\n",
    "\n",
    "**Inteligência Artificial (IA)** é o campo da ciência da computação que desenvolve sistemas capazes de simular comportamentos inteligentes.\n",
    "\n",
    "**Contexto histórico**:\n",
    "- Décadas de 1950–1970: IA simbólica, regras lógicas (ex: XCON, ELIZA)\n",
    "- Década de 1980: redes neurais e sistemas especialistas\n",
    "- Décadas de 2000–2020: Big Data, GPUs e aprendizado profundo (Deep Learning)\n",
    "\n",
    "**Áreas da IA**:\n",
    "- Sistemas de visão computacional\n",
    "- Processamento de linguagem natural (PLN)\n",
    "- Robótica\n",
    "- Sistemas especialistas\n",
    "- Inteligência coletiva (Swarm Intelligence)\n",
    "- Machine Learning (aprendizado de máquina)"
   ]
  },
  {
   "cell_type": "markdown",
   "id": "3b3671f1",
   "metadata": {},
   "source": [
    "<img src=\"https://miro.medium.com/v2/resize:fit:1400/1*IKS-FVwoCZkpm3MrnFLPbg.jpeg\">"
   ]
  },
  {
   "cell_type": "markdown",
   "id": "d8bf694e",
   "metadata": {},
   "source": [
    "## 2. O que é Machine Learning?\n",
    "\n",
    "**Machine Learning (ML)** é uma subárea da IA focada no desenvolvimento de algoritmos capazes de aprender a partir de dados.\n",
    "\n",
    "### Paradigmas de Aprendizado de Máquina:\n",
    "- **Simbólico**: regras, árvores de decisão\n",
    "- **Conexionista**: redes neurais\n",
    "- **Baseado em distância**: k-NN\n",
    "- **Kernel**: SVM\n",
    "- **Probabilístico**: Naive Bayes, HMMs"
   ]
  },
  {
   "cell_type": "markdown",
   "id": "21dec30d",
   "metadata": {},
   "source": [
    "### Exemplo simples: modelo simbólico vs conexionista"
   ]
  },
  {
   "cell_type": "code",
   "execution_count": null,
   "id": "1a056ed0",
   "metadata": {},
   "outputs": [],
   "source": [
    "from sklearn.datasets import load_iris\n",
    "from sklearn.model_selection import train_test_split\n",
    "from sklearn.tree import DecisionTreeClassifier\n",
    "from sklearn.neural_network import MLPClassifier\n",
    "from sklearn.metrics import accuracy_score\n",
    "\n",
    "# Carregar dados\n",
    "X, y = load_iris(return_X_y=True)\n",
    "X_train, X_test, y_train, y_test = train_test_split(X, y, test_size=0.3)\n",
    "\n",
    "# Árvores de decisão\n",
    "tree = DecisionTreeClassifier()\n",
    "tree.fit(X_train, y_train)\n",
    "acc_tree = accuracy_score(y_test, tree.predict(X_test))\n",
    "\n",
    "# Rede Neural\n",
    "mlp = MLPClassifier(max_iter=1000)\n",
    "mlp.fit(X_train, y_train)\n",
    "acc_mlp = accuracy_score(y_test, mlp.predict(X_test))\n",
    "\n",
    "print(f\"Acurácia - Árvore: {acc_tree:.2f} | MLP: {acc_mlp:.2f}\")"
   ]
  },
  {
   "cell_type": "markdown",
   "id": "5d807bdc",
   "metadata": {},
   "source": [
    "## 3. Classificação dos Tipos de Aprendizado de Máquina\n",
    "\n",
    "- **Supervisionado**: aprendizado com rótulo (ex: regressão, classificação)\n",
    "- **Não supervisionado**: sem rótulos (ex: clusterização)\n",
    "- **Aprendizado por reforço**: o agente aprende por tentativa e erro com base em recompensas\n",
    "\n",
    "### Algoritmos:\n",
    "- **Fortes**: capazes de resolver múltiplas tarefas complexas (ex: redes neurais profundas)\n",
    "- **Fracos**: especialistas em tarefas específicas (ex: Naive Bayes, Regressão Linear)"
   ]
  },
  {
   "cell_type": "markdown",
   "id": "92989aa5",
   "metadata": {},
   "source": [
    "## 4. Tarefas em Machine Learning\n",
    "\n",
    "### Tarefas supervisionadas:\n",
    "- **Classificação**: prever categorias (ex: spam vs. não spam)\n",
    "- **Regressão**: prever valores contínuos (ex: preço de casas)\n",
    "\n",
    "### Tarefas não supervisionadas:\n",
    "- **Clusterização (agrupamento)**: agrupar dados semelhantes (ex: segmentos de clientes)\n",
    "- **Extração de regras de associação**: descobrir relações (ex: clientes que compram X tendem a comprar Y)\n",
    "- **Detecção de outliers**: identificar anomalias"
   ]
  },
  {
   "cell_type": "markdown",
   "id": "c02d1d63",
   "metadata": {},
   "source": [
    "\n",
    "<img src=\"https://idapgroup.com/blog/blog/wp-content/uploads/2019/11/34534-1024x427.png\">"
   ]
  },
  {
   "cell_type": "markdown",
   "id": "013ee829",
   "metadata": {},
   "source": [
    "### Exemplo: Clusterização com K-Means"
   ]
  },
  {
   "cell_type": "code",
   "execution_count": null,
   "id": "c963ea28",
   "metadata": {},
   "outputs": [],
   "source": [
    "from sklearn.cluster import KMeans\n",
    "import matplotlib.pyplot as plt\n",
    "\n",
    "# Aplicar KMeans\n",
    "kmeans = KMeans(n_clusters=3, random_state=0)\n",
    "clusters = kmeans.fit_predict(X)\n",
    "\n",
    "# Visualizar\n",
    "plt.scatter(X[:, 0], X[:, 1], c=clusters, cmap=\"viridis\")\n",
    "plt.title(\"Clusterização K-Means (Iris Dataset)\")\n",
    "plt.xlabel(\"Feature 1\")\n",
    "plt.ylabel(\"Feature 2\")\n",
    "plt.show()"
   ]
  },
  {
   "cell_type": "markdown",
   "id": "43c9d494",
   "metadata": {},
   "source": [
    "## 5. Aplicações Reais de Machine Learning\n",
    "\n",
    "- **Detecção de fraude**: transações bancárias e cartões de crédito\n",
    "- **Sistemas de recomendação**: filmes, músicas, produtos\n",
    "- **Tradução automática**: PLN, redes neurais seq2seq\n",
    "- **Crédito e score**: análise de risco com regressão e árvores"
   ]
  },
  {
   "cell_type": "markdown",
   "id": "af5fa9a1",
   "metadata": {},
   "source": [
    "---\n",
    "## 📌 Conclusão\n",
    "\n",
    "- Machine Learning é uma ferramenta poderosa para extrair valor de dados.\n",
    "- Compreender os paradigmas e tarefas é fundamental para aplicar ML corretamente.\n",
    "- Aplicações práticas estão em constante crescimento com o avanço de dados e hardware."
   ]
  },
  {
   "cell_type": "markdown",
   "id": "288884c2",
   "metadata": {},
   "source": [
    "## 🧠 Exercícios Práticos\n",
    "\n",
    "### 1. Classificação com KNN\n",
    "Utilize o `KNeighborsClassifier` da scikit-learn para classificar o dataset Iris. Meça a acurácia do modelo.\n",
    "\n",
    "### 2. Regressão Linear\n",
    "Use o `LinearRegression` para prever valores de um dataset de regressão (ex: `sklearn.datasets.load_diabetes`).\n",
    "\n",
    "### 3. Clusterização com DBSCAN\n",
    "Experimente o algoritmo `DBSCAN` da scikit-learn para realizar agrupamento no dataset Iris. Visualize os resultados com `matplotlib`."
   ]
  },
  {
   "cell_type": "code",
   "execution_count": null,
   "id": "8caee8b3",
   "metadata": {},
   "outputs": [],
   "source": [
    "from sklearn.neighbors import KNeighborsClassifier\n",
    "\n",
    "knn = KNeighborsClassifier(n_neighbors=3)\n",
    "knn.fit(X_train, y_train)\n",
    "acc_knn = accuracy_score(y_test, knn.predict(X_test))\n",
    "print(f\"Acurácia - KNN: {acc_knn:.2f}\")"
   ]
  },
  {
   "cell_type": "code",
   "execution_count": null,
   "id": "442d180f",
   "metadata": {},
   "outputs": [],
   "source": [
    "from sklearn.datasets import load_diabetes\n",
    "from sklearn.linear_model import LinearRegression\n",
    "\n",
    "X, y = load_diabetes(return_X_y=True)\n",
    "X_train, X_test, y_train, y_test = train_test_split(X, y, test_size=0.3)\n",
    "\n",
    "model = LinearRegression()\n",
    "model.fit(X_train, y_train)\n",
    "print(\"R² score (regressão):\", model.score(X_test, y_test))"
   ]
  },
  {
   "cell_type": "code",
   "execution_count": null,
   "id": "13bfa03d",
   "metadata": {},
   "outputs": [],
   "source": [
    "from sklearn.cluster import DBSCAN\n",
    "\n",
    "dbscan = DBSCAN(eps=0.5, min_samples=5)\n",
    "clusters = dbscan.fit_predict(X)\n",
    "\n",
    "plt.scatter(X[:, 0], X[:, 1], c=clusters, cmap=\"plasma\")\n",
    "plt.title(\"DBSCAN Clustering (Iris Dataset)\")\n",
    "plt.xlabel(\"Feature 1\")\n",
    "plt.ylabel(\"Feature 2\")\n",
    "plt.show()"
   ]
  }
 ],
 "metadata": {
  "kernelspec": {
   "display_name": "Python 3",
   "language": "python",
   "name": "python3"
  },
  "language_info": {
   "codemirror_mode": {
    "name": "ipython",
    "version": 3
   },
   "file_extension": ".py",
   "mimetype": "text/x-python",
   "name": "python",
   "nbconvert_exporter": "python",
   "pygments_lexer": "ipython3",
   "version": "3.12.0"
  }
 },
 "nbformat": 4,
 "nbformat_minor": 5
}
